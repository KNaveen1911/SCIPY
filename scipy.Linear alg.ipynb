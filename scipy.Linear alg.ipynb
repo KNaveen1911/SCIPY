{
 "cells": [
  {
   "cell_type": "code",
   "execution_count": 1,
   "id": "1c959c18",
   "metadata": {},
   "outputs": [],
   "source": [
    "import numpy as np\n",
    "from scipy import linalg #linear algorithms\n",
    "import scipy as sp"
   ]
  },
  {
   "cell_type": "code",
   "execution_count": 2,
   "id": "e04e3f48",
   "metadata": {},
   "outputs": [
    {
     "name": "stdout",
     "output_type": "stream",
     "text": [
      "[[ 1.69230769]\n",
      " [-0.61538462]]\n"
     ]
    }
   ],
   "source": [
    "a=np.array([[3,5],[2,-1]])\n",
    "b=np.array([[2],[4]])\n",
    "x=linalg.solve(a,b)\n",
    "print(x)"
   ]
  },
  {
   "cell_type": "code",
   "execution_count": null,
   "id": "43cd50a8",
   "metadata": {},
   "outputs": [],
   "source": []
  },
  {
   "cell_type": "code",
   "execution_count": 3,
   "id": "259d2250",
   "metadata": {},
   "outputs": [
    {
     "name": "stdout",
     "output_type": "stream",
     "text": [
      "[[ 1.07407407]\n",
      " [-2.74074074]\n",
      " [-0.85185185]]\n"
     ]
    }
   ],
   "source": [
    "a=np.array([[3,2,-5],[1,-2,3],[4,1,3]])\n",
    "b=np.array([[2],[4],[-1]])\n",
    "x=linalg.solve(a,b)\n",
    "print(x)"
   ]
  },
  {
   "cell_type": "code",
   "execution_count": null,
   "id": "c5f50996",
   "metadata": {},
   "outputs": [],
   "source": []
  },
  {
   "cell_type": "code",
   "execution_count": 5,
   "id": "9de5f6b7",
   "metadata": {},
   "outputs": [
    {
     "data": {
      "text/plain": [
       "(array([[-0.26455026],\n",
       "        [ 0.86772487],\n",
       "        [-0.21164021]]),\n",
       " array([], dtype=float64),\n",
       " 2,\n",
       " array([9.57920801, 2.87032646]))"
      ]
     },
     "execution_count": 5,
     "metadata": {},
     "output_type": "execute_result"
    }
   ],
   "source": [
    "a=np.array([[3,2,-5],[1,6,-5]])\n",
    "b=np.array([[2],[6]])\n",
    "x=linalg.lstsq(a,b)\n",
    "x"
   ]
  },
  {
   "cell_type": "code",
   "execution_count": 8,
   "id": "d6e713bb",
   "metadata": {},
   "outputs": [
    {
     "name": "stdout",
     "output_type": "stream",
     "text": [
      "[[-0.26455026]\n",
      " [ 0.86772487]\n",
      " [-0.21164021]]\n"
     ]
    }
   ],
   "source": [
    "a=np.array([[3,2,-5],[1,6,-5]])\n",
    "b=np.array([[2],[6]])\n",
    "x=linalg.lstsq(a,b)\n",
    "x,resid,rank,sigma=linalg.lstsq(a,b)\n",
    "print(x)"
   ]
  },
  {
   "cell_type": "code",
   "execution_count": null,
   "id": "3a43bb1c",
   "metadata": {},
   "outputs": [],
   "source": []
  },
  {
   "cell_type": "code",
   "execution_count": 10,
   "id": "8ba06323",
   "metadata": {},
   "outputs": [
    {
     "name": "stdout",
     "output_type": "stream",
     "text": [
      "[[ 0.25925926  0.07407407]\n",
      " [ 0.11111111 -0.11111111]]\n",
      "-27.0\n",
      "[[ 0.25925926  0.07407407]\n",
      " [ 0.11111111 -0.11111111]]\n"
     ]
    }
   ],
   "source": [
    "a=np.array([[3,2],[3,-7]])\n",
    "\n",
    "print(linalg.inv(a)) #inverse of a,when matrix is square\n",
    "\n",
    "print(linalg.det(a))  #determinant\n",
    "\n",
    "print(linalg.pinv(a))   #inverse of a when matrix is not square\n"
   ]
  },
  {
   "cell_type": "code",
   "execution_count": null,
   "id": "aa936251",
   "metadata": {},
   "outputs": [],
   "source": []
  },
  {
   "cell_type": "code",
   "execution_count": 11,
   "id": "fa127c61",
   "metadata": {},
   "outputs": [
    {
     "name": "stdout",
     "output_type": "stream",
     "text": [
      "7.0710678118654755\n"
     ]
    }
   ],
   "source": [
    "a=np.array([3,-4,5])\n",
    "print(linalg.norm(a)) # L2 norm of a matrix\n"
   ]
  },
  {
   "cell_type": "code",
   "execution_count": 12,
   "id": "fb74c5b7",
   "metadata": {},
   "outputs": [
    {
     "name": "stdout",
     "output_type": "stream",
     "text": [
      "12.0\n"
     ]
    }
   ],
   "source": [
    "print(linalg.norm(a,1))  # L1 norm\n"
   ]
  },
  {
   "cell_type": "code",
   "execution_count": 13,
   "id": "52c6fa92",
   "metadata": {},
   "outputs": [
    {
     "name": "stdout",
     "output_type": "stream",
     "text": [
      "5.0\n"
     ]
    }
   ],
   "source": [
    "print(linalg.norm(a,np.inf))  # L infinity norm\n"
   ]
  },
  {
   "cell_type": "code",
   "execution_count": null,
   "id": "02b7a5d1",
   "metadata": {},
   "outputs": [],
   "source": []
  }
 ],
 "metadata": {
  "kernelspec": {
   "display_name": "Python 3 (ipykernel)",
   "language": "python",
   "name": "python3"
  },
  "language_info": {
   "codemirror_mode": {
    "name": "ipython",
    "version": 3
   },
   "file_extension": ".py",
   "mimetype": "text/x-python",
   "name": "python",
   "nbconvert_exporter": "python",
   "pygments_lexer": "ipython3",
   "version": "3.9.7"
  }
 },
 "nbformat": 4,
 "nbformat_minor": 5
}
